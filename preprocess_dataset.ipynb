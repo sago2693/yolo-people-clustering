{
 "cells": [
  {
   "cell_type": "code",
   "execution_count": 26,
   "metadata": {},
   "outputs": [],
   "source": [
    "import glob\n",
    "from collections import defaultdict\n",
    "import pandas as pd\n",
    "import os \n",
    "from config import *\n",
    "import shutil\n",
    "import kagglehub"
   ]
  },
  {
   "cell_type": "code",
   "execution_count": 28,
   "metadata": {},
   "outputs": [],
   "source": [
    "df_ground_truth = pd.read_excel('crops_ground_truth.xlsx')"
   ]
  },
  {
   "cell_type": "code",
   "execution_count": 29,
   "metadata": {},
   "outputs": [],
   "source": [
    "df_ground_truth.to_csv('crops_ground_truth.csv', index=False)"
   ]
  },
  {
   "cell_type": "code",
   "execution_count": 4,
   "metadata": {},
   "outputs": [],
   "source": [
    "dist_classes = {0: 'Akshay-Kumar',\n",
    " 1: 'Andy-Samberg',\n",
    " 2: 'Brad-Pitt',\n",
    " 3: 'Elizabeth-Olsen',\n",
    " 4: 'Henry-Cavill',\n",
    " 5: 'Hugh-Jackman',\n",
    " 6: 'Margot-Robbie',\n",
    " 7: 'Natalie-Portman',\n",
    " 8: 'Priyanka-Chopra',\n",
    " 9: 'Robert-Downey',\n",
    " 10: 'Tom-Cruise',\n",
    " 11: 'Zac-Efron',\n",
    " 12: 'mark_ruffalo'}"
   ]
  },
  {
   "cell_type": "code",
   "execution_count": 15,
   "metadata": {},
   "outputs": [],
   "source": [
    "df_files[['class','picture']].to_excel('ground_truth.xlsx',index=False)"
   ]
  },
  {
   "cell_type": "code",
   "execution_count": 18,
   "metadata": {},
   "outputs": [],
   "source": [
    "crop_list = glob.glob('humans/predict/crops/person/*')"
   ]
  },
  {
   "cell_type": "code",
   "execution_count": 23,
   "metadata": {},
   "outputs": [],
   "source": [
    "crop_names = [path.split('\\\\')[-1] for path in crop_list]"
   ]
  },
  {
   "cell_type": "code",
   "execution_count": 25,
   "metadata": {},
   "outputs": [],
   "source": [
    "pd.DataFrame({'picture':crop_names}).to_excel('crop_path.xlsx',index=False)"
   ]
  },
  {
   "cell_type": "code",
   "execution_count": 67,
   "metadata": {},
   "outputs": [],
   "source": [
    "list_images = glob.glob(\"images/test/images/*.jpg\")\n",
    "labels_path = \"images/test/labels/\"\n",
    "file_names = [os.path.splitext(os.path.basename(image))[0] for image in list_images]\n",
    "classes_list = []\n",
    "\n",
    "for file_name in file_names:\n",
    "    with open(labels_path + file_name + \".txt\") as f:\n",
    "        lines = f.readlines()\n",
    "        for line in lines:\n",
    "            classes_list.append(line.split()[0])"
   ]
  },
  {
   "cell_type": "code",
   "execution_count": 66,
   "metadata": {},
   "outputs": [
    {
     "name": "stdout",
     "output_type": "stream",
     "text": [
      "{0: 'Akshay-Kumar', 1: 'Andy-Samberg', 2: 'Brad-Pitt', 3: 'Elizabeth-Olsen', 4: 'Henry-Cavill', 5: 'Hugh-Jackman', 6: 'Margot-Robbie', 7: 'Natalie-Portman', 8: 'Priyanka-Chopra', 9: 'Robert-Downey', 10: 'Tom-Cruise', 11: 'Zac-Efron', 12: 'mark_ruffalo', 13: 'un-known'}\n"
     ]
    }
   ],
   "source": [
    "import yaml\n",
    "\n",
    "# Read the data.yaml file\n",
    "with open(\"images/data.yaml\", \"r\") as file:\n",
    "    data = yaml.safe_load(file)\n",
    "\n",
    "# Extract the names list\n",
    "names_list = data.get(\"names\", [])\n",
    "\n",
    "# Create the dictionary with position as key and name as value\n",
    "position_to_name = {index: name for index, name in enumerate(names_list)}\n",
    "\n",
    "# Output the dictionary\n",
    "print(position_to_name)\n"
   ]
  },
  {
   "cell_type": "code",
   "execution_count": 110,
   "metadata": {},
   "outputs": [],
   "source": [
    "classes_list\n",
    "indices_not_13 = [index for index, value in enumerate(classes_list) if value != '13']\n",
    "filtered_classes_list = [classes_list[index] for index in indices_not_13]\n",
    "\n",
    "file_names_filtered = [os.path.basename(list_images[index]) for index in indices_not_13]\n",
    "\n",
    "pd.DataFrame({\"file_name\": file_names_filtered, \"class\": filtered_classes_list}).to_csv(\"image_w_classes.csv\", index=False)"
   ]
  },
  {
   "cell_type": "code",
   "execution_count": 98,
   "metadata": {},
   "outputs": [],
   "source": [
    "file_names_filtered\n",
    "for file_name in file_names_filtered:\n",
    "    shutil.copy(file_name, \"images/\")"
   ]
  },
  {
   "cell_type": "code",
   "execution_count": 8,
   "metadata": {},
   "outputs": [],
   "source": [
    "#Parameters\n",
    "metrics_list = ['euclidean', 'cosine']\n",
    "thresholds = np.linspace(0, 0.5, 51)\n",
    "layers_list = range(0, 7)"
   ]
  }
 ],
 "metadata": {
  "kernelspec": {
   "display_name": "clustering-env",
   "language": "python",
   "name": "python3"
  },
  "language_info": {
   "codemirror_mode": {
    "name": "ipython",
    "version": 3
   },
   "file_extension": ".py",
   "mimetype": "text/x-python",
   "name": "python",
   "nbconvert_exporter": "python",
   "pygments_lexer": "ipython3",
   "version": "3.10.16"
  }
 },
 "nbformat": 4,
 "nbformat_minor": 2
}
